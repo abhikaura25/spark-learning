{
 "cells": [
  {
   "cell_type": "code",
   "execution_count": 1,
   "id": "087b0505",
   "metadata": {},
   "outputs": [],
   "source": [
    "from pyspark.sql import SparkSession\n",
    "import getpass\n",
    "username = getpass.getuser()\n",
    "spark = SparkSession. \\\n",
    "    builder. \\\n",
    "    config('spark.ui.port','0'). \\\n",
    "    config(\"spark.sql.warehouse.dir\", f\"/user/{username}/warehouse\"). \\\n",
    "    enableHiveSupport(). \\\n",
    "    master('yarn'). \\\n",
    "    getOrCreate()"
   ]
  },
  {
   "cell_type": "code",
   "execution_count": 2,
   "id": "0f9727a8",
   "metadata": {},
   "outputs": [
    {
     "data": {
      "text/html": [
       "\n",
       "            <div>\n",
       "                <p><b>SparkSession - hive</b></p>\n",
       "                \n",
       "        <div>\n",
       "            <p><b>SparkContext</b></p>\n",
       "\n",
       "            <p><a href=\"http://g02.itversity.com:42391\">Spark UI</a></p>\n",
       "\n",
       "            <dl>\n",
       "              <dt>Version</dt>\n",
       "                <dd><code>v3.0.1</code></dd>\n",
       "              <dt>Master</dt>\n",
       "                <dd><code>yarn</code></dd>\n",
       "              <dt>AppName</dt>\n",
       "                <dd><code>pyspark-shell</code></dd>\n",
       "            </dl>\n",
       "        </div>\n",
       "        \n",
       "            </div>\n",
       "        "
      ],
      "text/plain": [
       "<pyspark.sql.session.SparkSession at 0x7f6b8755e080>"
      ]
     },
     "execution_count": 2,
     "metadata": {},
     "output_type": "execute_result"
    }
   ],
   "source": [
    "spark"
   ]
  },
  {
   "cell_type": "code",
   "execution_count": 8,
   "id": "936b4948",
   "metadata": {},
   "outputs": [
    {
     "name": "stdout",
     "output_type": "stream",
     "text": [
      "Found 1 items\n",
      "-rw-r--r--   3 itv005857 supergroup    5408880 2023-04-26 16:47 /public/trendytech/retail_db/order_items/part-00000\n"
     ]
    }
   ],
   "source": [
    "!hdfs dfs -ls /public/trendytech/retail_db/order_items"
   ]
  },
  {
   "cell_type": "code",
   "execution_count": 9,
   "id": "ca1463c0",
   "metadata": {},
   "outputs": [
    {
     "name": "stdout",
     "output_type": "stream",
     "text": [
      "1,1,957,1,299.98,299.98\n",
      "2,2,1073,1,199.99,199.99\n",
      "3,2,502,5,250.0,50.0\n",
      "4,2,403,1,129.99,129.99\n",
      "5,4,897,2,49.98,24.99\n",
      "6,4,365,5,299.95,59.99\n",
      "7,4,502,3,150.0,50.0\n",
      "8,4,1014,4,199.92,49.98\n",
      "9,5,957,1,299.98,299.98\n",
      "10,5,365,5,299.95,59.99\n",
      "cat: Unable to write to output stream.\n"
     ]
    }
   ],
   "source": [
    "!hdfs dfs -cat /public/trendytech/retail_db/order_items/part-00000|head"
   ]
  },
  {
   "cell_type": "code",
   "execution_count": 11,
   "id": "572ed419",
   "metadata": {},
   "outputs": [],
   "source": [
    "raw_df  = spark.read.csv(\"/public/trendytech/retail_db/order_items/*\", inferSchema=\"true\")"
   ]
  },
  {
   "cell_type": "code",
   "execution_count": 12,
   "id": "fc782e8f",
   "metadata": {},
   "outputs": [
    {
     "name": "stdout",
     "output_type": "stream",
     "text": [
      "root\n",
      " |-- _c0: integer (nullable = true)\n",
      " |-- _c1: integer (nullable = true)\n",
      " |-- _c2: integer (nullable = true)\n",
      " |-- _c3: integer (nullable = true)\n",
      " |-- _c4: double (nullable = true)\n",
      " |-- _c5: double (nullable = true)\n",
      "\n"
     ]
    }
   ],
   "source": [
    "raw_df.printSchema()"
   ]
  },
  {
   "cell_type": "code",
   "execution_count": 15,
   "id": "7bcd1420",
   "metadata": {},
   "outputs": [],
   "source": [
    "refined_df = raw_df.toDF(\"order_item_id\", \"order_id\", \"product_id\", \"quantity\", \"subtotal\", \"product_price\")"
   ]
  },
  {
   "cell_type": "code",
   "execution_count": 16,
   "id": "9355fe1b",
   "metadata": {},
   "outputs": [
    {
     "name": "stdout",
     "output_type": "stream",
     "text": [
      "+-------------+--------+----------+--------+--------+-------------+\n",
      "|order_item_id|order_id|product_id|quantity|subtotal|product_price|\n",
      "+-------------+--------+----------+--------+--------+-------------+\n",
      "|            1|       1|       957|       1|  299.98|       299.98|\n",
      "|            2|       2|      1073|       1|  199.99|       199.99|\n",
      "|            3|       2|       502|       5|   250.0|         50.0|\n",
      "|            4|       2|       403|       1|  129.99|       129.99|\n",
      "|            5|       4|       897|       2|   49.98|        24.99|\n",
      "|            6|       4|       365|       5|  299.95|        59.99|\n",
      "|            7|       4|       502|       3|   150.0|         50.0|\n",
      "|            8|       4|      1014|       4|  199.92|        49.98|\n",
      "|            9|       5|       957|       1|  299.98|       299.98|\n",
      "|           10|       5|       365|       5|  299.95|        59.99|\n",
      "|           11|       5|      1014|       2|   99.96|        49.98|\n",
      "|           12|       5|       957|       1|  299.98|       299.98|\n",
      "|           13|       5|       403|       1|  129.99|       129.99|\n",
      "|           14|       7|      1073|       1|  199.99|       199.99|\n",
      "|           15|       7|       957|       1|  299.98|       299.98|\n",
      "|           16|       7|       926|       5|   79.95|        15.99|\n",
      "|           17|       8|       365|       3|  179.97|        59.99|\n",
      "|           18|       8|       365|       5|  299.95|        59.99|\n",
      "|           19|       8|      1014|       4|  199.92|        49.98|\n",
      "|           20|       8|       502|       1|    50.0|         50.0|\n",
      "+-------------+--------+----------+--------+--------+-------------+\n",
      "only showing top 20 rows\n",
      "\n"
     ]
    }
   ],
   "source": [
    "refined_df.show()"
   ]
  },
  {
   "cell_type": "code",
   "execution_count": 18,
   "id": "7d8fe0c9",
   "metadata": {},
   "outputs": [],
   "source": [
    "df1 = refined_df.drop(\"subtotal\")"
   ]
  },
  {
   "cell_type": "code",
   "execution_count": 19,
   "id": "b636d7b8",
   "metadata": {},
   "outputs": [
    {
     "name": "stdout",
     "output_type": "stream",
     "text": [
      "+-------------+--------+----------+--------+-------------+\n",
      "|order_item_id|order_id|product_id|quantity|product_price|\n",
      "+-------------+--------+----------+--------+-------------+\n",
      "|            1|       1|       957|       1|       299.98|\n",
      "|            2|       2|      1073|       1|       199.99|\n",
      "|            3|       2|       502|       5|         50.0|\n",
      "|            4|       2|       403|       1|       129.99|\n",
      "|            5|       4|       897|       2|        24.99|\n",
      "|            6|       4|       365|       5|        59.99|\n",
      "|            7|       4|       502|       3|         50.0|\n",
      "|            8|       4|      1014|       4|        49.98|\n",
      "|            9|       5|       957|       1|       299.98|\n",
      "|           10|       5|       365|       5|        59.99|\n",
      "|           11|       5|      1014|       2|        49.98|\n",
      "|           12|       5|       957|       1|       299.98|\n",
      "|           13|       5|       403|       1|       129.99|\n",
      "|           14|       7|      1073|       1|       199.99|\n",
      "|           15|       7|       957|       1|       299.98|\n",
      "|           16|       7|       926|       5|        15.99|\n",
      "|           17|       8|       365|       3|        59.99|\n",
      "|           18|       8|       365|       5|        59.99|\n",
      "|           19|       8|      1014|       4|        49.98|\n",
      "|           20|       8|       502|       1|         50.0|\n",
      "+-------------+--------+----------+--------+-------------+\n",
      "only showing top 20 rows\n",
      "\n"
     ]
    }
   ],
   "source": [
    "df1.show()"
   ]
  },
  {
   "cell_type": "code",
   "execution_count": 21,
   "id": "27b41c6f",
   "metadata": {},
   "outputs": [
    {
     "name": "stdout",
     "output_type": "stream",
     "text": [
      "+-------------+--------+----------+--------+-------------+------+\n",
      "|order_item_id|order_id|product_id|quantity|product_price| total|\n",
      "+-------------+--------+----------+--------+-------------+------+\n",
      "|            1|       1|       957|       1|       299.98|299.98|\n",
      "|            2|       2|      1073|       1|       199.99|199.99|\n",
      "|            3|       2|       502|       5|         50.0| 250.0|\n",
      "|            4|       2|       403|       1|       129.99|129.99|\n",
      "|            5|       4|       897|       2|        24.99| 49.98|\n",
      "|            6|       4|       365|       5|        59.99|299.95|\n",
      "|            7|       4|       502|       3|         50.0| 150.0|\n",
      "|            8|       4|      1014|       4|        49.98|199.92|\n",
      "|            9|       5|       957|       1|       299.98|299.98|\n",
      "|           10|       5|       365|       5|        59.99|299.95|\n",
      "|           11|       5|      1014|       2|        49.98| 99.96|\n",
      "|           12|       5|       957|       1|       299.98|299.98|\n",
      "|           13|       5|       403|       1|       129.99|129.99|\n",
      "|           14|       7|      1073|       1|       199.99|199.99|\n",
      "|           15|       7|       957|       1|       299.98|299.98|\n",
      "|           16|       7|       926|       5|        15.99| 79.95|\n",
      "|           17|       8|       365|       3|        59.99|179.97|\n",
      "|           18|       8|       365|       5|        59.99|299.95|\n",
      "|           19|       8|      1014|       4|        49.98|199.92|\n",
      "|           20|       8|       502|       1|         50.0|  50.0|\n",
      "+-------------+--------+----------+--------+-------------+------+\n",
      "only showing top 20 rows\n",
      "\n"
     ]
    }
   ],
   "source": [
    "from pyspark.sql.functions import *\n",
    "df1.select(\"*\",expr(\"quantity * product_price as total\")).show() "
   ]
  },
  {
   "cell_type": "code",
   "execution_count": 22,
   "id": "476f61ea",
   "metadata": {},
   "outputs": [
    {
     "name": "stdout",
     "output_type": "stream",
     "text": [
      "+-------------+--------+----------+--------+-------------+------+\n",
      "|order_item_id|order_id|product_id|quantity|product_price| total|\n",
      "+-------------+--------+----------+--------+-------------+------+\n",
      "|            1|       1|       957|       1|       299.98|299.98|\n",
      "|            2|       2|      1073|       1|       199.99|199.99|\n",
      "|            3|       2|       502|       5|         50.0| 250.0|\n",
      "|            4|       2|       403|       1|       129.99|129.99|\n",
      "|            5|       4|       897|       2|        24.99| 49.98|\n",
      "|            6|       4|       365|       5|        59.99|299.95|\n",
      "|            7|       4|       502|       3|         50.0| 150.0|\n",
      "|            8|       4|      1014|       4|        49.98|199.92|\n",
      "|            9|       5|       957|       1|       299.98|299.98|\n",
      "|           10|       5|       365|       5|        59.99|299.95|\n",
      "|           11|       5|      1014|       2|        49.98| 99.96|\n",
      "|           12|       5|       957|       1|       299.98|299.98|\n",
      "|           13|       5|       403|       1|       129.99|129.99|\n",
      "|           14|       7|      1073|       1|       199.99|199.99|\n",
      "|           15|       7|       957|       1|       299.98|299.98|\n",
      "|           16|       7|       926|       5|        15.99| 79.95|\n",
      "|           17|       8|       365|       3|        59.99|179.97|\n",
      "|           18|       8|       365|       5|        59.99|299.95|\n",
      "|           19|       8|      1014|       4|        49.98|199.92|\n",
      "|           20|       8|       502|       1|         50.0|  50.0|\n",
      "+-------------+--------+----------+--------+-------------+------+\n",
      "only showing top 20 rows\n",
      "\n"
     ]
    }
   ],
   "source": [
    "df1.selectExpr(\"*\", \"quantity * product_price as total\").show()"
   ]
  },
  {
   "cell_type": "code",
   "execution_count": 23,
   "id": "326c689e",
   "metadata": {},
   "outputs": [],
   "source": [
    "products_df  = spark.read.csv(\"/public/trendytech/retail_db/products/*\", inferSchema=\"true\")"
   ]
  },
  {
   "cell_type": "code",
   "execution_count": 24,
   "id": "2a458422",
   "metadata": {},
   "outputs": [
    {
     "name": "stdout",
     "output_type": "stream",
     "text": [
      "+---+---+--------------------+----+------+--------------------+\n",
      "|_c0|_c1|                 _c2| _c3|   _c4|                 _c5|\n",
      "+---+---+--------------------+----+------+--------------------+\n",
      "|  1|  2|Quest Q64 10 FT. ...|null| 59.98|http://images.acm...|\n",
      "|  2|  2|Under Armour Men'...|null|129.99|http://images.acm...|\n",
      "|  3|  2|Under Armour Men'...|null| 89.99|http://images.acm...|\n",
      "|  4|  2|Under Armour Men'...|null| 89.99|http://images.acm...|\n",
      "|  5|  2|Riddell Youth Rev...|null|199.99|http://images.acm...|\n",
      "|  6|  2|Jordan Men's VI R...|null|134.99|http://images.acm...|\n",
      "|  7|  2|Schutt Youth Recr...|null| 99.99|http://images.acm...|\n",
      "|  8|  2|Nike Men's Vapor ...|null|129.99|http://images.acm...|\n",
      "|  9|  2|Nike Adult Vapor ...|null|  50.0|http://images.acm...|\n",
      "| 10|  2|Under Armour Men'...|null|129.99|http://images.acm...|\n",
      "| 11|  2|Fitness Gear 300 ...|null|209.99|http://images.acm...|\n",
      "| 12|  2|Under Armour Men'...|null|139.99|http://images.acm...|\n",
      "| 13|  2|Under Armour Men'...|null| 89.99|http://images.acm...|\n",
      "| 14|  2|Quik Shade Summit...|null|199.99|http://images.acm...|\n",
      "| 15|  2|Under Armour Kids...|null| 59.99|http://images.acm...|\n",
      "| 16|  2|Riddell Youth 360...|null|299.99|http://images.acm...|\n",
      "| 17|  2|Under Armour Men'...|null|129.99|http://images.acm...|\n",
      "| 18|  2|Reebok Men's Full...|null| 29.97|http://images.acm...|\n",
      "| 19|  2|Nike Men's Finger...|null|124.99|http://images.acm...|\n",
      "| 20|  2|Under Armour Men'...|null|129.99|http://images.acm...|\n",
      "+---+---+--------------------+----+------+--------------------+\n",
      "only showing top 20 rows\n",
      "\n"
     ]
    }
   ],
   "source": [
    "products_df.show()"
   ]
  },
  {
   "cell_type": "code",
   "execution_count": 26,
   "id": "bd847776",
   "metadata": {},
   "outputs": [],
   "source": [
    "refined_product_df = products_df.toDF(\"product_id\", \"product_category_id\",\"product_name\",\"product_description\",\"product_price\", \"product_image\")"
   ]
  },
  {
   "cell_type": "code",
   "execution_count": 29,
   "id": "8e7fee1b",
   "metadata": {},
   "outputs": [
    {
     "name": "stdout",
     "output_type": "stream",
     "text": [
      "+----------+-------------------+--------------------+-------------------+-------------+--------------------+\n",
      "|product_id|product_category_id|        product_name|product_description|product_price|       product_image|\n",
      "+----------+-------------------+--------------------+-------------------+-------------+--------------------+\n",
      "|         1|                  2|Quest Q64 10 FT. ...|               null|        59.98|http://images.acm...|\n",
      "|         2|                  2|Under Armour Men'...|               null|       129.99|http://images.acm...|\n",
      "|         3|                  2|Under Armour Men'...|               null|        89.99|http://images.acm...|\n",
      "|         4|                  2|Under Armour Men'...|               null|        89.99|http://images.acm...|\n",
      "|         5|                  2|Riddell Youth Rev...|               null|       199.99|http://images.acm...|\n",
      "|         6|                  2|Jordan Men's VI R...|               null|       134.99|http://images.acm...|\n",
      "|         7|                  2|Schutt Youth Recr...|               null|        99.99|http://images.acm...|\n",
      "|         8|                  2|Nike Men's Vapor ...|               null|       129.99|http://images.acm...|\n",
      "|         9|                  2|Nike Adult Vapor ...|               null|         50.0|http://images.acm...|\n",
      "|        10|                  2|Under Armour Men'...|               null|       129.99|http://images.acm...|\n",
      "|        11|                  2|Fitness Gear 300 ...|               null|       209.99|http://images.acm...|\n",
      "|        12|                  2|Under Armour Men'...|               null|       139.99|http://images.acm...|\n",
      "|        13|                  2|Under Armour Men'...|               null|        89.99|http://images.acm...|\n",
      "|        14|                  2|Quik Shade Summit...|               null|       199.99|http://images.acm...|\n",
      "|        15|                  2|Under Armour Kids...|               null|        59.99|http://images.acm...|\n",
      "|        16|                  2|Riddell Youth 360...|               null|       299.99|http://images.acm...|\n",
      "|        17|                  2|Under Armour Men'...|               null|       129.99|http://images.acm...|\n",
      "|        18|                  2|Reebok Men's Full...|               null|        29.97|http://images.acm...|\n",
      "|        19|                  2|Nike Men's Finger...|               null|       124.99|http://images.acm...|\n",
      "|        20|                  2|Under Armour Men'...|               null|       129.99|http://images.acm...|\n",
      "+----------+-------------------+--------------------+-------------------+-------------+--------------------+\n",
      "only showing top 20 rows\n",
      "\n"
     ]
    }
   ],
   "source": [
    "refined_product_df.show()"
   ]
  },
  {
   "cell_type": "code",
   "execution_count": 31,
   "id": "36da0796",
   "metadata": {},
   "outputs": [
    {
     "name": "stdout",
     "output_type": "stream",
     "text": [
      "+----------+-------------------+--------------------+-------------------+------------------+--------------------+\n",
      "|product_id|product_category_id|        product_name|product_description|     product_price|       product_image|\n",
      "+----------+-------------------+--------------------+-------------------+------------------+--------------------+\n",
      "|         1|                  2|Quest Q64 10 FT. ...|               null|            71.976|http://images.acm...|\n",
      "|         2|                  2|Under Armour Men'...|               null|           155.988|http://images.acm...|\n",
      "|         3|                  2|Under Armour Men'...|               null|107.98799999999999|http://images.acm...|\n",
      "|         4|                  2|Under Armour Men'...|               null|107.98799999999999|http://images.acm...|\n",
      "|         5|                  2|Riddell Youth Rev...|               null|           239.988|http://images.acm...|\n",
      "|         6|                  2|Jordan Men's VI R...|               null|           161.988|http://images.acm...|\n",
      "|         7|                  2|Schutt Youth Recr...|               null|119.98799999999999|http://images.acm...|\n",
      "|         8|                  2|Nike Men's Vapor ...|               null|           155.988|http://images.acm...|\n",
      "|         9|                  2|Nike Adult Vapor ...|               null|              60.0|http://images.acm...|\n",
      "|        10|                  2|Under Armour Men'...|               null|           155.988|http://images.acm...|\n",
      "|        11|                  2|Fitness Gear 300 ...|               null|           251.988|http://images.acm...|\n",
      "|        12|                  2|Under Armour Men'...|               null|           167.988|http://images.acm...|\n",
      "|        13|                  2|Under Armour Men'...|               null|107.98799999999999|http://images.acm...|\n",
      "|        14|                  2|Quik Shade Summit...|               null|           239.988|http://images.acm...|\n",
      "|        15|                  2|Under Armour Kids...|               null|            71.988|http://images.acm...|\n",
      "|        16|                  2|Riddell Youth 360...|               null|           359.988|http://images.acm...|\n",
      "|        17|                  2|Under Armour Men'...|               null|           155.988|http://images.acm...|\n",
      "|        18|                  2|Reebok Men's Full...|               null|            35.964|http://images.acm...|\n",
      "|        19|                  2|Nike Men's Finger...|               null|           149.988|http://images.acm...|\n",
      "|        20|                  2|Under Armour Men'...|               null|           155.988|http://images.acm...|\n",
      "+----------+-------------------+--------------------+-------------------+------------------+--------------------+\n",
      "only showing top 20 rows\n",
      "\n"
     ]
    }
   ],
   "source": [
    "refined_product_df.withColumn(\"product_price\",expr(\"product_price * 1.2\")).show()"
   ]
  },
  {
   "cell_type": "code",
   "execution_count": 33,
   "id": "88b8e10f",
   "metadata": {},
   "outputs": [],
   "source": [
    "df2 = refined_product_df.withColumn(\"product_price\", expr(\"CASE WHEN product_name like '%Nike%' THEN product_price * 1.2 WHEN product_name like '%Armour%' THEN product_price * 1.1 ELSE product_price END\"))"
   ]
  },
  {
   "cell_type": "code",
   "execution_count": 34,
   "id": "7ba49326",
   "metadata": {},
   "outputs": [
    {
     "name": "stdout",
     "output_type": "stream",
     "text": [
      "+----------+-------------------+--------------------+-------------------+------------------+--------------------+\n",
      "|product_id|product_category_id|        product_name|product_description|     product_price|       product_image|\n",
      "+----------+-------------------+--------------------+-------------------+------------------+--------------------+\n",
      "|         1|                  2|Quest Q64 10 FT. ...|               null|             59.98|http://images.acm...|\n",
      "|         2|                  2|Under Armour Men'...|               null|142.98900000000003|http://images.acm...|\n",
      "|         3|                  2|Under Armour Men'...|               null|            98.989|http://images.acm...|\n",
      "|         4|                  2|Under Armour Men'...|               null|            98.989|http://images.acm...|\n",
      "|         5|                  2|Riddell Youth Rev...|               null|            199.99|http://images.acm...|\n",
      "|         6|                  2|Jordan Men's VI R...|               null|            134.99|http://images.acm...|\n",
      "|         7|                  2|Schutt Youth Recr...|               null|             99.99|http://images.acm...|\n",
      "|         8|                  2|Nike Men's Vapor ...|               null|           155.988|http://images.acm...|\n",
      "|         9|                  2|Nike Adult Vapor ...|               null|              60.0|http://images.acm...|\n",
      "|        10|                  2|Under Armour Men'...|               null|142.98900000000003|http://images.acm...|\n",
      "|        11|                  2|Fitness Gear 300 ...|               null|            209.99|http://images.acm...|\n",
      "|        12|                  2|Under Armour Men'...|               null|153.98900000000003|http://images.acm...|\n",
      "|        13|                  2|Under Armour Men'...|               null|            98.989|http://images.acm...|\n",
      "|        14|                  2|Quik Shade Summit...|               null|            199.99|http://images.acm...|\n",
      "|        15|                  2|Under Armour Kids...|               null|            65.989|http://images.acm...|\n",
      "|        16|                  2|Riddell Youth 360...|               null|            299.99|http://images.acm...|\n",
      "|        17|                  2|Under Armour Men'...|               null|142.98900000000003|http://images.acm...|\n",
      "|        18|                  2|Reebok Men's Full...|               null|             29.97|http://images.acm...|\n",
      "|        19|                  2|Nike Men's Finger...|               null|           149.988|http://images.acm...|\n",
      "|        20|                  2|Under Armour Men'...|               null|142.98900000000003|http://images.acm...|\n",
      "+----------+-------------------+--------------------+-------------------+------------------+--------------------+\n",
      "only showing top 20 rows\n",
      "\n"
     ]
    }
   ],
   "source": [
    "df2.show()"
   ]
  },
  {
   "cell_type": "code",
   "execution_count": 3,
   "id": "57e3f8e0",
   "metadata": {},
   "outputs": [],
   "source": [
    "#### Removing Duplicates from Dataframe ####\n",
    "myList = [\n",
    "    (1,\"Kapil\",34),\n",
    "    (1,\"Kapil\",34),\n",
    "    (1,\"Satish\",26),\n",
    "    (2,\"Satish\",26)\n",
    "]"
   ]
  },
  {
   "cell_type": "code",
   "execution_count": 4,
   "id": "a66b447a",
   "metadata": {},
   "outputs": [],
   "source": [
    "df= spark.createDataFrame(myList).toDF(\"id\",\"name\",\"age\")"
   ]
  },
  {
   "cell_type": "code",
   "execution_count": 5,
   "id": "29e22968",
   "metadata": {},
   "outputs": [
    {
     "name": "stdout",
     "output_type": "stream",
     "text": [
      "+---+------+---+\n",
      "| id|  name|age|\n",
      "+---+------+---+\n",
      "|  1| Kapil| 34|\n",
      "|  1| Kapil| 34|\n",
      "|  1|Satish| 26|\n",
      "|  2|Satish| 26|\n",
      "+---+------+---+\n",
      "\n"
     ]
    }
   ],
   "source": [
    "df.show()"
   ]
  },
  {
   "cell_type": "code",
   "execution_count": 6,
   "id": "df7de339",
   "metadata": {},
   "outputs": [],
   "source": [
    "df1= df.distinct()"
   ]
  },
  {
   "cell_type": "code",
   "execution_count": 7,
   "id": "f18bd08e",
   "metadata": {},
   "outputs": [
    {
     "name": "stdout",
     "output_type": "stream",
     "text": [
      "+---+------+---+\n",
      "| id|  name|age|\n",
      "+---+------+---+\n",
      "|  1| Kapil| 34|\n",
      "|  2|Satish| 26|\n",
      "|  1|Satish| 26|\n",
      "+---+------+---+\n",
      "\n"
     ]
    }
   ],
   "source": [
    "df1.show()"
   ]
  },
  {
   "cell_type": "code",
   "execution_count": 8,
   "id": "cc1bbe00",
   "metadata": {},
   "outputs": [
    {
     "name": "stdout",
     "output_type": "stream",
     "text": [
      "+---+------+---+\n",
      "| id|  name|age|\n",
      "+---+------+---+\n",
      "|  1| Kapil| 34|\n",
      "|  2|Satish| 26|\n",
      "|  1|Satish| 26|\n",
      "+---+------+---+\n",
      "\n"
     ]
    }
   ],
   "source": [
    "new_df1= df.dropDuplicates().show()"
   ]
  },
  {
   "cell_type": "code",
   "execution_count": 10,
   "id": "49f82080",
   "metadata": {},
   "outputs": [
    {
     "name": "stdout",
     "output_type": "stream",
     "text": [
      "+---+------+---+\n",
      "| id|  name|age|\n",
      "+---+------+---+\n",
      "|  1| Kapil| 34|\n",
      "|  1|Satish| 26|\n",
      "+---+------+---+\n",
      "\n"
     ]
    }
   ],
   "source": [
    "new_df2 = df.dropDuplicates([\"name\",\"age\"]).show()"
   ]
  },
  {
   "cell_type": "code",
   "execution_count": 11,
   "id": "d11df874",
   "metadata": {},
   "outputs": [
    {
     "name": "stdout",
     "output_type": "stream",
     "text": [
      "+---+------+---+\n",
      "| id|  name|age|\n",
      "+---+------+---+\n",
      "|  1|Satish| 26|\n",
      "|  2|Satish| 26|\n",
      "+---+------+---+\n",
      "\n"
     ]
    }
   ],
   "source": [
    "new_df3 = df.dropDuplicates([\"id\"]).show()"
   ]
  },
  {
   "cell_type": "code",
   "execution_count": null,
   "id": "36dd8c34",
   "metadata": {},
   "outputs": [],
   "source": []
  },
  {
   "cell_type": "code",
   "execution_count": null,
   "id": "74b672ed",
   "metadata": {},
   "outputs": [],
   "source": []
  }
 ],
 "metadata": {
  "kernelspec": {
   "display_name": "Pyspark 3",
   "language": "python",
   "name": "pyspark3"
  },
  "language_info": {
   "codemirror_mode": {
    "name": "ipython",
    "version": 3
   },
   "file_extension": ".py",
   "mimetype": "text/x-python",
   "name": "python",
   "nbconvert_exporter": "python",
   "pygments_lexer": "ipython3",
   "version": "3.6.12"
  }
 },
 "nbformat": 4,
 "nbformat_minor": 5
}
