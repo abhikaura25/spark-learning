{
 "cells": [
  {
   "cell_type": "code",
   "execution_count": 4,
   "id": "4e0f2e32",
   "metadata": {},
   "outputs": [],
   "source": [
    "from pyspark.sql import SparkSession\n",
    "import getpass\n",
    "username = getpass.getuser()\n",
    "spark = SparkSession. \\\n",
    "    builder. \\\n",
    "    appName('broadcast-join'). \\\n",
    "    config('spark.ui.port','0'). \\\n",
    "    config(\"spark.sql.warehouse.dir\", f\"/user/itv007008/warehouse\"). \\\n",
    "    enableHiveSupport(). \\\n",
    "    master('yarn'). \\\n",
    "    getOrCreate()"
   ]
  },
  {
   "cell_type": "code",
   "execution_count": 15,
   "id": "11e8f4af",
   "metadata": {},
   "outputs": [
    {
     "data": {
      "text/html": [
       "\n",
       "            <div>\n",
       "                <p><b>SparkSession - hive</b></p>\n",
       "                \n",
       "        <div>\n",
       "            <p><b>SparkContext</b></p>\n",
       "\n",
       "            <p><a href=\"http://g02.itversity.com:36127\">Spark UI</a></p>\n",
       "\n",
       "            <dl>\n",
       "              <dt>Version</dt>\n",
       "                <dd><code>v3.0.1</code></dd>\n",
       "              <dt>Master</dt>\n",
       "                <dd><code>yarn</code></dd>\n",
       "              <dt>AppName</dt>\n",
       "                <dd><code>pyspark-shell</code></dd>\n",
       "            </dl>\n",
       "        </div>\n",
       "        \n",
       "            </div>\n",
       "        "
      ],
      "text/plain": [
       "<pyspark.sql.session.SparkSession at 0x7f2d1b5dd0b8>"
      ]
     },
     "execution_count": 15,
     "metadata": {},
     "output_type": "execute_result"
    }
   ],
   "source": [
    "spark"
   ]
  },
  {
   "cell_type": "code",
   "execution_count": 16,
   "id": "79aaf511",
   "metadata": {},
   "outputs": [],
   "source": [
    "### Order Dataset ####\n",
    "order_base = spark.sparkContext.textFile('/public/trendytech/orders/orders_1gb.csv')"
   ]
  },
  {
   "cell_type": "code",
   "execution_count": 17,
   "id": "79c147c4",
   "metadata": {},
   "outputs": [],
   "source": [
    "### Customer Dataset ###\n",
    "customer_base = spark.sparkContext.textFile('/public/trendytech/retail_db/customers/*')"
   ]
  },
  {
   "cell_type": "code",
   "execution_count": 18,
   "id": "171f4ca5",
   "metadata": {},
   "outputs": [],
   "source": [
    "order_mapped = order_base.map(lambda x: (x.split(',')[2],x.split(',')[3]))"
   ]
  },
  {
   "cell_type": "code",
   "execution_count": 19,
   "id": "6b2ffa3e",
   "metadata": {},
   "outputs": [],
   "source": [
    "customer_mapped = customer_base.map(lambda x: (x.split(',')[0],x.split(',')[8]))"
   ]
  },
  {
   "cell_type": "code",
   "execution_count": 20,
   "id": "731d5b96",
   "metadata": {},
   "outputs": [
    {
     "data": {
      "text/plain": [
       "[('11599', 'CLOSED')]"
      ]
     },
     "execution_count": 20,
     "metadata": {},
     "output_type": "execute_result"
    }
   ],
   "source": [
    "order_mapped.take(1)"
   ]
  },
  {
   "cell_type": "code",
   "execution_count": 28,
   "id": "05d00d70",
   "metadata": {},
   "outputs": [],
   "source": [
    "customers_broadcast = spark.sparkContext.broadcast(customer_mapped.collect())"
   ]
  },
  {
   "cell_type": "code",
   "execution_count": 38,
   "id": "b89f1370",
   "metadata": {},
   "outputs": [],
   "source": [
    "def get_pincode(customer_id): \n",
    "    try:\n",
    "        return customer_broadcast.value(customer_id)\n",
    "    except: \n",
    "        return \"-1\""
   ]
  },
  {
   "cell_type": "code",
   "execution_count": 39,
   "id": "0ca519ed",
   "metadata": {},
   "outputs": [],
   "source": [
    "join_rdd = order_mapped.map(lambda x: (get_pincode(int (x[0])),x[1]))"
   ]
  },
  {
   "cell_type": "code",
   "execution_count": 40,
   "id": "b21947ee",
   "metadata": {},
   "outputs": [
    {
     "data": {
      "text/plain": [
       "[('-1', 'CLOSED'),\n",
       " ('-1', 'PENDING_PAYMENT'),\n",
       " ('-1', 'COMPLETE'),\n",
       " ('-1', 'CLOSED'),\n",
       " ('-1', 'COMPLETE')]"
      ]
     },
     "execution_count": 40,
     "metadata": {},
     "output_type": "execute_result"
    },
    {
     "name": "stderr",
     "output_type": "stream",
     "text": [
      "----------------------------------------\n",
      "Exception happened during processing of request from ('127.0.0.1', 47030)\n",
      "Traceback (most recent call last):\n",
      "  File \"/opt/anaconda3/envs/beakerx/lib/python3.6/socketserver.py\", line 320, in _handle_request_noblock\n",
      "    self.process_request(request, client_address)\n",
      "  File \"/opt/anaconda3/envs/beakerx/lib/python3.6/socketserver.py\", line 351, in process_request\n",
      "    self.finish_request(request, client_address)\n",
      "  File \"/opt/anaconda3/envs/beakerx/lib/python3.6/socketserver.py\", line 364, in finish_request\n",
      "    self.RequestHandlerClass(request, client_address, self)\n",
      "  File \"/opt/anaconda3/envs/beakerx/lib/python3.6/socketserver.py\", line 724, in __init__\n",
      "    self.handle()\n",
      "  File \"/opt/spark-3.0.1-bin-hadoop3.2/python/pyspark/accumulators.py\", line 268, in handle\n",
      "    poll(accum_updates)\n",
      "  File \"/opt/spark-3.0.1-bin-hadoop3.2/python/pyspark/accumulators.py\", line 241, in poll\n",
      "    if func():\n",
      "  File \"/opt/spark-3.0.1-bin-hadoop3.2/python/pyspark/accumulators.py\", line 245, in accum_updates\n",
      "    num_updates = read_int(self.rfile)\n",
      "  File \"/opt/spark-3.0.1-bin-hadoop3.2/python/pyspark/serializers.py\", line 595, in read_int\n",
      "    raise EOFError\n",
      "EOFError\n",
      "----------------------------------------\n"
     ]
    }
   ],
   "source": [
    "join_rdd.take(5)"
   ]
  },
  {
   "cell_type": "code",
   "execution_count": null,
   "id": "64165efe",
   "metadata": {},
   "outputs": [],
   "source": []
  }
 ],
 "metadata": {
  "kernelspec": {
   "display_name": "Pyspark 3",
   "language": "python",
   "name": "pyspark3"
  },
  "language_info": {
   "codemirror_mode": {
    "name": "ipython",
    "version": 3
   },
   "file_extension": ".py",
   "mimetype": "text/x-python",
   "name": "python",
   "nbconvert_exporter": "python",
   "pygments_lexer": "ipython3",
   "version": "3.6.12"
  }
 },
 "nbformat": 4,
 "nbformat_minor": 5
}
