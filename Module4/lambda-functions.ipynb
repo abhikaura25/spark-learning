{
 "cells": [
  {
   "cell_type": "code",
   "execution_count": 1,
   "id": "3c19c7de",
   "metadata": {},
   "outputs": [],
   "source": [
    "def my_sum(x,y): \n",
    "    return x+y"
   ]
  },
  {
   "cell_type": "code",
   "execution_count": 2,
   "id": "132a1ca3",
   "metadata": {},
   "outputs": [],
   "source": [
    "a = my_sum(2,3)"
   ]
  },
  {
   "cell_type": "code",
   "execution_count": 4,
   "id": "f7416ebc",
   "metadata": {},
   "outputs": [
    {
     "name": "stdout",
     "output_type": "stream",
     "text": [
      "5\n"
     ]
    }
   ],
   "source": [
    "print(a)"
   ]
  },
  {
   "cell_type": "code",
   "execution_count": 5,
   "id": "596fac7c",
   "metadata": {},
   "outputs": [],
   "source": [
    "my_list = [5,7,8,2,5,9]"
   ]
  },
  {
   "cell_type": "code",
   "execution_count": 8,
   "id": "208beec7",
   "metadata": {},
   "outputs": [],
   "source": [
    "def doubler(x):\n",
    "    return 2*x"
   ]
  },
  {
   "cell_type": "code",
   "execution_count": 12,
   "id": "7fa2790d",
   "metadata": {},
   "outputs": [],
   "source": [
    "output = list(map(lambda x: 2*x, my_list))"
   ]
  },
  {
   "cell_type": "code",
   "execution_count": 13,
   "id": "9fc2c1fc",
   "metadata": {},
   "outputs": [
    {
     "name": "stdout",
     "output_type": "stream",
     "text": [
      "[10, 14, 16, 4, 10, 18]\n"
     ]
    }
   ],
   "source": [
    "print(output)"
   ]
  },
  {
   "cell_type": "code",
   "execution_count": 14,
   "id": "a4d6c6bf",
   "metadata": {},
   "outputs": [],
   "source": [
    "def sumlist(x):\n",
    "    total = 0\n",
    "    for i in x:\n",
    "        total = total + i\n",
    "    return total"
   ]
  },
  {
   "cell_type": "code",
   "execution_count": 15,
   "id": "24aea2bd",
   "metadata": {},
   "outputs": [
    {
     "data": {
      "text/plain": [
       "36"
      ]
     },
     "execution_count": 15,
     "metadata": {},
     "output_type": "execute_result"
    }
   ],
   "source": [
    "sumlist(my_list)"
   ]
  },
  {
   "cell_type": "code",
   "execution_count": 18,
   "id": "eb457a3c",
   "metadata": {},
   "outputs": [
    {
     "data": {
      "text/plain": [
       "36"
      ]
     },
     "execution_count": 18,
     "metadata": {},
     "output_type": "execute_result"
    }
   ],
   "source": [
    "from functools import reduce\n",
    "reduce(lambda x,y: x+y, my_list)"
   ]
  },
  {
   "cell_type": "code",
   "execution_count": null,
   "id": "0f9cdfff",
   "metadata": {},
   "outputs": [],
   "source": []
  }
 ],
 "metadata": {
  "kernelspec": {
   "display_name": "Pyspark 3",
   "language": "python",
   "name": "pyspark3"
  },
  "language_info": {
   "codemirror_mode": {
    "name": "ipython",
    "version": 3
   },
   "file_extension": ".py",
   "mimetype": "text/x-python",
   "name": "python",
   "nbconvert_exporter": "python",
   "pygments_lexer": "ipython3",
   "version": "3.6.12"
  }
 },
 "nbformat": 4,
 "nbformat_minor": 5
}
