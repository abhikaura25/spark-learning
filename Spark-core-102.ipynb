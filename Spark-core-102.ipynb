{
 "cells": [
  {
   "cell_type": "code",
   "execution_count": 29,
   "id": "1f1a299f",
   "metadata": {},
   "outputs": [],
   "source": [
    "from pyspark.sql import SparkSession\n",
    "import getpass\n",
    "username = getpass.getuser()\n",
    "spark = SparkSession. \\\n",
    "    builder. \\\n",
    "    config('spark.ui.port','0'). \\\n",
    "    config(\"spark.sql.warehouse.dir\", f\"/user/itv007008/warehouse\"). \\\n",
    "    enableHiveSupport(). \\\n",
    "    master('yarn'). \\\n",
    "    getOrCreate()"
   ]
  },
  {
   "cell_type": "code",
   "execution_count": 30,
   "id": "a31648b3",
   "metadata": {},
   "outputs": [
    {
     "data": {
      "text/html": [
       "\n",
       "            <div>\n",
       "                <p><b>SparkSession - hive</b></p>\n",
       "                \n",
       "        <div>\n",
       "            <p><b>SparkContext</b></p>\n",
       "\n",
       "            <p><a href=\"http://g02.itversity.com:38041\">Spark UI</a></p>\n",
       "\n",
       "            <dl>\n",
       "              <dt>Version</dt>\n",
       "                <dd><code>v3.0.1</code></dd>\n",
       "              <dt>Master</dt>\n",
       "                <dd><code>yarn</code></dd>\n",
       "              <dt>AppName</dt>\n",
       "                <dd><code>pyspark-shell</code></dd>\n",
       "            </dl>\n",
       "        </div>\n",
       "        \n",
       "            </div>\n",
       "        "
      ],
      "text/plain": [
       "<pyspark.sql.session.SparkSession at 0x7f14402d0a20>"
      ]
     },
     "execution_count": 30,
     "metadata": {},
     "output_type": "execute_result"
    }
   ],
   "source": [
    "spark"
   ]
  },
  {
   "cell_type": "code",
   "execution_count": 3,
   "id": "2cb86544",
   "metadata": {},
   "outputs": [],
   "source": [
    "words = (\"big\", \"Data\", \"IS\", \"Super\", \"interesting\", \"BIG\", \"DATA\", \"IS\", \"TRENDING\", \"technology\")"
   ]
  },
  {
   "cell_type": "code",
   "execution_count": 4,
   "id": "ae077162",
   "metadata": {},
   "outputs": [],
   "source": [
    "words_rdd = spark.sparkContext.parallelize(words)"
   ]
  },
  {
   "cell_type": "code",
   "execution_count": 5,
   "id": "0c07ff9f",
   "metadata": {},
   "outputs": [],
   "source": [
    "words_normalized = words_rdd.map(lambda x: x.lower()).map(lambda x: (x,1)).reduceByKey(lambda x,y: x+y).sortByKey()"
   ]
  },
  {
   "cell_type": "code",
   "execution_count": 6,
   "id": "874ae3eb",
   "metadata": {},
   "outputs": [
    {
     "data": {
      "text/plain": [
       "2"
      ]
     },
     "execution_count": 6,
     "metadata": {},
     "output_type": "execute_result"
    }
   ],
   "source": [
    "##How to check the number of partitions\n",
    "words_normalized.getNumPartitions()"
   ]
  },
  {
   "cell_type": "code",
   "execution_count": 7,
   "id": "405ae142",
   "metadata": {},
   "outputs": [
    {
     "data": {
      "text/plain": [
       "2"
      ]
     },
     "execution_count": 7,
     "metadata": {},
     "output_type": "execute_result"
    }
   ],
   "source": [
    "spark.sparkContext.defaultParallelism"
   ]
  },
  {
   "cell_type": "code",
   "execution_count": 8,
   "id": "029c712f",
   "metadata": {},
   "outputs": [],
   "source": [
    "readFileRdd = spark.sparkContext.textFile('/public/trendytech/retail_db/orders/*')"
   ]
  },
  {
   "cell_type": "code",
   "execution_count": 9,
   "id": "51842f87",
   "metadata": {},
   "outputs": [
    {
     "data": {
      "text/plain": [
       "2"
      ]
     },
     "execution_count": 9,
     "metadata": {},
     "output_type": "execute_result"
    }
   ],
   "source": [
    "readFileRdd.getNumPartitions()"
   ]
  },
  {
   "cell_type": "code",
   "execution_count": 10,
   "id": "e581127c",
   "metadata": {},
   "outputs": [
    {
     "data": {
      "text/plain": [
       "2"
      ]
     },
     "execution_count": 10,
     "metadata": {},
     "output_type": "execute_result"
    }
   ],
   "source": [
    "spark.sparkContext.defaultMinPartitions"
   ]
  },
  {
   "cell_type": "code",
   "execution_count": 11,
   "id": "509f3bf1",
   "metadata": {},
   "outputs": [],
   "source": [
    "big_log_rdd = spark.sparkContext.textFile('/public/trendytech/bigLog.txt')"
   ]
  },
  {
   "cell_type": "code",
   "execution_count": 12,
   "id": "91cd273d",
   "metadata": {},
   "outputs": [
    {
     "data": {
      "text/plain": [
       "3"
      ]
     },
     "execution_count": 12,
     "metadata": {},
     "output_type": "execute_result"
    }
   ],
   "source": [
    "big_log_rdd.getNumPartitions()"
   ]
  },
  {
   "cell_type": "code",
   "execution_count": 13,
   "id": "d47fd27c",
   "metadata": {},
   "outputs": [
    {
     "data": {
      "text/plain": [
       "['ERROR: Thu Jun 04 10:37:51 BST 2015', 'WARN: Sun Nov 06 10:37:51 GMT 2016']"
      ]
     },
     "execution_count": 13,
     "metadata": {},
     "output_type": "execute_result"
    }
   ],
   "source": [
    "big_log_rdd.take(2)"
   ]
  },
  {
   "cell_type": "code",
   "execution_count": 14,
   "id": "9f7d9d8d",
   "metadata": {},
   "outputs": [],
   "source": [
    "mapped_rdd=readFileRdd.map(lambda x: (x.split(',')[3],1)).reduceByKey(lambda x,y: x+y)"
   ]
  },
  {
   "cell_type": "code",
   "execution_count": 15,
   "id": "cbb8a64d",
   "metadata": {},
   "outputs": [
    {
     "data": {
      "text/plain": [
       "[('CLOSED', 7556),\n",
       " ('CANCELED', 1428),\n",
       " ('PENDING_PAYMENT', 15030),\n",
       " ('COMPLETE', 22899),\n",
       " ('PROCESSING', 8275),\n",
       " ('PAYMENT_REVIEW', 729),\n",
       " ('PENDING', 7610),\n",
       " ('ON_HOLD', 3798),\n",
       " ('SUSPECTED_FRAUD', 1558)]"
      ]
     },
     "execution_count": 15,
     "metadata": {},
     "output_type": "execute_result"
    }
   ],
   "source": [
    "mapped_rdd.collect()"
   ]
  },
  {
   "cell_type": "code",
   "execution_count": 16,
   "id": "90c01a0f",
   "metadata": {},
   "outputs": [],
   "source": [
    "count_by_value = readFileRdd.map(lambda x: (x.split(',')[3]))"
   ]
  },
  {
   "cell_type": "code",
   "execution_count": 17,
   "id": "8c4a824d",
   "metadata": {},
   "outputs": [
    {
     "data": {
      "text/plain": [
       "defaultdict(int,\n",
       "            {'CLOSED': 7556,\n",
       "             'PENDING_PAYMENT': 15030,\n",
       "             'COMPLETE': 22899,\n",
       "             'PROCESSING': 8275,\n",
       "             'PAYMENT_REVIEW': 729,\n",
       "             'PENDING': 7610,\n",
       "             'ON_HOLD': 3798,\n",
       "             'CANCELED': 1428,\n",
       "             'SUSPECTED_FRAUD': 1558})"
      ]
     },
     "execution_count": 17,
     "metadata": {},
     "output_type": "execute_result"
    }
   ],
   "source": [
    "count_by_value.countByValue()"
   ]
  },
  {
   "cell_type": "code",
   "execution_count": 18,
   "id": "a3f77676",
   "metadata": {},
   "outputs": [],
   "source": [
    "### Reduce Vs ReduceByKey\n",
    "\n",
    "my_list = [1,3,5,6,7,8]"
   ]
  },
  {
   "cell_type": "code",
   "execution_count": 19,
   "id": "64f533bc",
   "metadata": {},
   "outputs": [],
   "source": [
    "parallel_rdd = spark.sparkContext.parallelize(my_list)"
   ]
  },
  {
   "cell_type": "code",
   "execution_count": 20,
   "id": "6ae3a4b2",
   "metadata": {},
   "outputs": [
    {
     "data": {
      "text/plain": [
       "30"
      ]
     },
     "execution_count": 20,
     "metadata": {},
     "output_type": "execute_result"
    }
   ],
   "source": [
    "### Reduce is Action ####\n",
    "parallel_rdd.reduce(lambda x,y: x+y)"
   ]
  },
  {
   "cell_type": "code",
   "execution_count": 31,
   "id": "17e146cb",
   "metadata": {},
   "outputs": [],
   "source": [
    "### ReduceByKey vs GroupByKey\n",
    "\n",
    "base_rdd = spark.sparkContext.textFile('/public/trendytech/orders/orders.csv').map(lambda x: (x.split(',')[3],1)).reduceByKey(lambda x,y: x+y)"
   ]
  },
  {
   "cell_type": "code",
   "execution_count": 32,
   "id": "cd56eee5",
   "metadata": {},
   "outputs": [
    {
     "data": {
      "text/plain": [
       "[('PENDING', 9512500),\n",
       " ('PROCESSING', 10343750),\n",
       " ('CANCELED', 1785000),\n",
       " ('COMPLETE', 28623750),\n",
       " ('SUSPECTED_FRAUD', 1947500),\n",
       " ('CLOSED', 9445000),\n",
       " ('ON_HOLD', 4747500),\n",
       " ('PAYMENT_REVIEW', 911250),\n",
       " ('PENDING_PAYMENT', 18787500)]"
      ]
     },
     "execution_count": 32,
     "metadata": {},
     "output_type": "execute_result"
    }
   ],
   "source": [
    "base_rdd.collect()"
   ]
  },
  {
   "cell_type": "code",
   "execution_count": 33,
   "id": "a896617b",
   "metadata": {},
   "outputs": [
    {
     "data": {
      "text/html": [
       "\n",
       "            <div>\n",
       "                <p><b>SparkSession - hive</b></p>\n",
       "                \n",
       "        <div>\n",
       "            <p><b>SparkContext</b></p>\n",
       "\n",
       "            <p><a href=\"http://g02.itversity.com:38041\">Spark UI</a></p>\n",
       "\n",
       "            <dl>\n",
       "              <dt>Version</dt>\n",
       "                <dd><code>v3.0.1</code></dd>\n",
       "              <dt>Master</dt>\n",
       "                <dd><code>yarn</code></dd>\n",
       "              <dt>AppName</dt>\n",
       "                <dd><code>pyspark-shell</code></dd>\n",
       "            </dl>\n",
       "        </div>\n",
       "        \n",
       "            </div>\n",
       "        "
      ],
      "text/plain": [
       "<pyspark.sql.session.SparkSession at 0x7f14402d0a20>"
      ]
     },
     "execution_count": 33,
     "metadata": {},
     "output_type": "execute_result"
    }
   ],
   "source": [
    "spark"
   ]
  },
  {
   "cell_type": "code",
   "execution_count": 37,
   "id": "99db44a4",
   "metadata": {},
   "outputs": [],
   "source": [
    "groupByKeyRdd = spark.sparkContext.textFile('/public/trendytech/orders/orders.csv').map(lambda x: (x.split(',')[3],x.split(',')[2]))"
   ]
  },
  {
   "cell_type": "code",
   "execution_count": 38,
   "id": "b2c74332",
   "metadata": {},
   "outputs": [
    {
     "data": {
      "text/plain": [
       "[('CLOSED', '11599'), ('PENDING_PAYMENT', '256'), ('COMPLETE', '12111')]"
      ]
     },
     "execution_count": 38,
     "metadata": {},
     "output_type": "execute_result"
    }
   ],
   "source": [
    "groupByKeyRdd.take(3)"
   ]
  },
  {
   "cell_type": "code",
   "execution_count": 45,
   "id": "1a97e43e",
   "metadata": {},
   "outputs": [
    {
     "data": {
      "text/html": [
       "\n",
       "            <div>\n",
       "                <p><b>SparkSession - hive</b></p>\n",
       "                \n",
       "        <div>\n",
       "            <p><b>SparkContext</b></p>\n",
       "\n",
       "            <p><a href=\"http://g02.itversity.com:38041\">Spark UI</a></p>\n",
       "\n",
       "            <dl>\n",
       "              <dt>Version</dt>\n",
       "                <dd><code>v3.0.1</code></dd>\n",
       "              <dt>Master</dt>\n",
       "                <dd><code>yarn</code></dd>\n",
       "              <dt>AppName</dt>\n",
       "                <dd><code>pyspark-shell</code></dd>\n",
       "            </dl>\n",
       "        </div>\n",
       "        \n",
       "            </div>\n",
       "        "
      ],
      "text/plain": [
       "<pyspark.sql.session.SparkSession at 0x7f14402d0a20>"
      ]
     },
     "execution_count": 45,
     "metadata": {},
     "output_type": "execute_result"
    }
   ],
   "source": [
    "spark"
   ]
  },
  {
   "cell_type": "code",
   "execution_count": 44,
   "id": "f54acb59",
   "metadata": {},
   "outputs": [],
   "source": [
    "result = groupByKeyRdd.map(lambda x: (x[0], len(x[1])))"
   ]
  },
  {
   "cell_type": "code",
   "execution_count": null,
   "id": "f1857024",
   "metadata": {},
   "outputs": [],
   "source": []
  }
 ],
 "metadata": {
  "kernelspec": {
   "display_name": "Pyspark 3",
   "language": "python",
   "name": "pyspark3"
  },
  "language_info": {
   "codemirror_mode": {
    "name": "ipython",
    "version": 3
   },
   "file_extension": ".py",
   "mimetype": "text/x-python",
   "name": "python",
   "nbconvert_exporter": "python",
   "pygments_lexer": "ipython3",
   "version": "3.6.12"
  }
 },
 "nbformat": 4,
 "nbformat_minor": 5
}
