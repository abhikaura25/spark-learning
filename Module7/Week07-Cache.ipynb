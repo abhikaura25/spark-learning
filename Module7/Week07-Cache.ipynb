{
 "cells": [
  {
   "cell_type": "code",
   "execution_count": 29,
   "id": "ee26a7b5",
   "metadata": {},
   "outputs": [],
   "source": [
    "from pyspark.sql import SparkSession\n",
    "import getpass\n",
    "username = getpass.getuser()\n",
    "spark = SparkSession. \\\n",
    "    builder. \\\n",
    "    config('spark.ui.port','0'). \\\n",
    "    config(\"spark.sql.warehouse.dir\", f\"/user/{username}/warehouse\"). \\\n",
    "    enableHiveSupport(). \\\n",
    "    appName(\"Week07\"). \\\n",
    "    master('yarn'). \\\n",
    "    getOrCreate()"
   ]
  },
  {
   "cell_type": "code",
   "execution_count": 30,
   "id": "a14968b7",
   "metadata": {},
   "outputs": [
    {
     "data": {
      "text/html": [
       "\n",
       "            <div>\n",
       "                <p><b>SparkSession - hive</b></p>\n",
       "                \n",
       "        <div>\n",
       "            <p><b>SparkContext</b></p>\n",
       "\n",
       "            <p><a href=\"http://g02.itversity.com:40247\">Spark UI</a></p>\n",
       "\n",
       "            <dl>\n",
       "              <dt>Version</dt>\n",
       "                <dd><code>v2.4.7</code></dd>\n",
       "              <dt>Master</dt>\n",
       "                <dd><code>yarn</code></dd>\n",
       "              <dt>AppName</dt>\n",
       "                <dd><code>Week07</code></dd>\n",
       "            </dl>\n",
       "        </div>\n",
       "        \n",
       "            </div>\n",
       "        "
      ],
      "text/plain": [
       "<pyspark.sql.session.SparkSession at 0x7f7f1282fb00>"
      ]
     },
     "execution_count": 30,
     "metadata": {},
     "output_type": "execute_result"
    }
   ],
   "source": [
    "spark"
   ]
  },
  {
   "cell_type": "code",
   "execution_count": 31,
   "id": "4232b943",
   "metadata": {},
   "outputs": [],
   "source": [
    "orders_schema = 'order_id long, order_date date, customer_id long, order_status string'\n",
    "orders_df = spark.read.csv(\"/public/trendytech/orders/orders_1gb.csv\", schema = orders_schema)"
   ]
  },
  {
   "cell_type": "code",
   "execution_count": 32,
   "id": "e91bcaf2",
   "metadata": {},
   "outputs": [
    {
     "name": "stdout",
     "output_type": "stream",
     "text": [
      "+--------+----------+-----------+---------------+\n",
      "|order_id|order_date|customer_id|   order_status|\n",
      "+--------+----------+-----------+---------------+\n",
      "|       1|2013-07-25|      11599|         CLOSED|\n",
      "|       2|2013-07-25|        256|PENDING_PAYMENT|\n",
      "|       3|2013-07-25|      12111|       COMPLETE|\n",
      "|       4|2013-07-25|       8827|         CLOSED|\n",
      "|       5|2013-07-25|      11318|       COMPLETE|\n",
      "|       6|2013-07-25|       7130|       COMPLETE|\n",
      "|       7|2013-07-25|       4530|       COMPLETE|\n",
      "|       8|2013-07-25|       2911|     PROCESSING|\n",
      "|       9|2013-07-25|       5657|PENDING_PAYMENT|\n",
      "|      10|2013-07-25|       5648|PENDING_PAYMENT|\n",
      "+--------+----------+-----------+---------------+\n",
      "only showing top 10 rows\n",
      "\n"
     ]
    }
   ],
   "source": [
    "orders_df.show(10)"
   ]
  },
  {
   "cell_type": "code",
   "execution_count": 33,
   "id": "b6ca2885",
   "metadata": {},
   "outputs": [
    {
     "name": "stdout",
     "output_type": "stream",
     "text": [
      "root\n",
      " |-- order_id: long (nullable = true)\n",
      " |-- order_date: date (nullable = true)\n",
      " |-- customer_id: long (nullable = true)\n",
      " |-- order_status: string (nullable = true)\n",
      "\n"
     ]
    }
   ],
   "source": [
    "orders_df.printSchema()"
   ]
  },
  {
   "cell_type": "code",
   "execution_count": 34,
   "id": "4a4ce8e2",
   "metadata": {},
   "outputs": [
    {
     "data": {
      "text/plain": [
       "25831125"
      ]
     },
     "execution_count": 34,
     "metadata": {},
     "output_type": "execute_result"
    }
   ],
   "source": [
    "orders_df.count()"
   ]
  },
  {
   "cell_type": "code",
   "execution_count": 35,
   "id": "d99d1bd8",
   "metadata": {},
   "outputs": [],
   "source": [
    "## Caching the df // Cache is Lazy . This is neither the transformation nor the action.\n",
    "orders_df_cached = orders_df.cache()"
   ]
  },
  {
   "cell_type": "code",
   "execution_count": 36,
   "id": "fef41a97",
   "metadata": {},
   "outputs": [
    {
     "name": "stdout",
     "output_type": "stream",
     "text": [
      "+--------+----------+-----------+---------------+\n",
      "|order_id|order_date|customer_id|   order_status|\n",
      "+--------+----------+-----------+---------------+\n",
      "|       1|2013-07-25|      11599|         CLOSED|\n",
      "|       2|2013-07-25|        256|PENDING_PAYMENT|\n",
      "|       3|2013-07-25|      12111|       COMPLETE|\n",
      "|       4|2013-07-25|       8827|         CLOSED|\n",
      "|       5|2013-07-25|      11318|       COMPLETE|\n",
      "|       6|2013-07-25|       7130|       COMPLETE|\n",
      "|       7|2013-07-25|       4530|       COMPLETE|\n",
      "|       8|2013-07-25|       2911|     PROCESSING|\n",
      "|       9|2013-07-25|       5657|PENDING_PAYMENT|\n",
      "|      10|2013-07-25|       5648|PENDING_PAYMENT|\n",
      "|      11|2013-07-25|        918| PAYMENT_REVIEW|\n",
      "|      12|2013-07-25|       1837|         CLOSED|\n",
      "|      13|2013-07-25|       9149|PENDING_PAYMENT|\n",
      "|      14|2013-07-25|       9842|     PROCESSING|\n",
      "|      15|2013-07-25|       2568|       COMPLETE|\n",
      "|      16|2013-07-25|       7276|PENDING_PAYMENT|\n",
      "|      17|2013-07-25|       2667|       COMPLETE|\n",
      "|      18|2013-07-25|       1205|         CLOSED|\n",
      "|      19|2013-07-25|       9488|PENDING_PAYMENT|\n",
      "|      20|2013-07-25|       9198|     PROCESSING|\n",
      "+--------+----------+-----------+---------------+\n",
      "only showing top 20 rows\n",
      "\n"
     ]
    }
   ],
   "source": [
    "orders_df_cached.show()\n",
    "## Only 11 % is cached and only 1st partition will be cached"
   ]
  },
  {
   "cell_type": "code",
   "execution_count": 37,
   "id": "99f09f89",
   "metadata": {},
   "outputs": [
    {
     "data": {
      "text/plain": [
       "Row(order_id=1, order_date=datetime.date(2013, 7, 25), customer_id=11599, order_status='CLOSED')"
      ]
     },
     "execution_count": 37,
     "metadata": {},
     "output_type": "execute_result"
    }
   ],
   "source": [
    "orders_df_cached.head()"
   ]
  },
  {
   "cell_type": "code",
   "execution_count": 38,
   "id": "66b8f455",
   "metadata": {},
   "outputs": [
    {
     "data": {
      "text/plain": [
       "25831125"
      ]
     },
     "execution_count": 38,
     "metadata": {},
     "output_type": "execute_result"
    }
   ],
   "source": [
    "orders_df_cached.count()"
   ]
  },
  {
   "cell_type": "code",
   "execution_count": 39,
   "id": "4414e7eb",
   "metadata": {},
   "outputs": [
    {
     "name": "stdout",
     "output_type": "stream",
     "text": [
      "+--------+----------+-----------+---------------+\n",
      "|order_id|order_date|customer_id|   order_status|\n",
      "+--------+----------+-----------+---------------+\n",
      "|       1|2013-07-25|      11599|         CLOSED|\n",
      "|       2|2013-07-25|        256|PENDING_PAYMENT|\n",
      "|       3|2013-07-25|      12111|       COMPLETE|\n",
      "|       4|2013-07-25|       8827|         CLOSED|\n",
      "|       5|2013-07-25|      11318|       COMPLETE|\n",
      "|       6|2013-07-25|       7130|       COMPLETE|\n",
      "|       7|2013-07-25|       4530|       COMPLETE|\n",
      "|       8|2013-07-25|       2911|     PROCESSING|\n",
      "|       9|2013-07-25|       5657|PENDING_PAYMENT|\n",
      "|      10|2013-07-25|       5648|PENDING_PAYMENT|\n",
      "|      11|2013-07-25|        918| PAYMENT_REVIEW|\n",
      "|      12|2013-07-25|       1837|         CLOSED|\n",
      "|      13|2013-07-25|       9149|PENDING_PAYMENT|\n",
      "|      14|2013-07-25|       9842|     PROCESSING|\n",
      "|      15|2013-07-25|       2568|       COMPLETE|\n",
      "|      16|2013-07-25|       7276|PENDING_PAYMENT|\n",
      "|      17|2013-07-25|       2667|       COMPLETE|\n",
      "|      18|2013-07-25|       1205|         CLOSED|\n",
      "|      19|2013-07-25|       9488|PENDING_PAYMENT|\n",
      "|      20|2013-07-25|       9198|     PROCESSING|\n",
      "+--------+----------+-----------+---------------+\n",
      "only showing top 20 rows\n",
      "\n"
     ]
    }
   ],
   "source": [
    "orders_df_cached.show()"
   ]
  },
  {
   "cell_type": "code",
   "execution_count": 40,
   "id": "5f466b04",
   "metadata": {},
   "outputs": [
    {
     "name": "stdout",
     "output_type": "stream",
     "text": [
      "+--------+----------+-----------+---------------+\n",
      "|order_id|order_date|customer_id|   order_status|\n",
      "+--------+----------+-----------+---------------+\n",
      "|       1|2013-07-25|      11599|         CLOSED|\n",
      "|       2|2013-07-25|        256|PENDING_PAYMENT|\n",
      "|       3|2013-07-25|      12111|       COMPLETE|\n",
      "|       4|2013-07-25|       8827|         CLOSED|\n",
      "|       5|2013-07-25|      11318|       COMPLETE|\n",
      "|       6|2013-07-25|       7130|       COMPLETE|\n",
      "|       7|2013-07-25|       4530|       COMPLETE|\n",
      "|       8|2013-07-25|       2911|     PROCESSING|\n",
      "|       9|2013-07-25|       5657|PENDING_PAYMENT|\n",
      "|      10|2013-07-25|       5648|PENDING_PAYMENT|\n",
      "|      11|2013-07-25|        918| PAYMENT_REVIEW|\n",
      "|      12|2013-07-25|       1837|         CLOSED|\n",
      "|      13|2013-07-25|       9149|PENDING_PAYMENT|\n",
      "|      14|2013-07-25|       9842|     PROCESSING|\n",
      "|      15|2013-07-25|       2568|       COMPLETE|\n",
      "|      16|2013-07-25|       7276|PENDING_PAYMENT|\n",
      "|      17|2013-07-25|       2667|       COMPLETE|\n",
      "|      18|2013-07-25|       1205|         CLOSED|\n",
      "|      19|2013-07-25|       9488|PENDING_PAYMENT|\n",
      "|      20|2013-07-25|       9198|     PROCESSING|\n",
      "|      21|2013-07-25|       2711|        PENDING|\n",
      "|      22|2013-07-25|        333|       COMPLETE|\n",
      "|      23|2013-07-25|       4367|PENDING_PAYMENT|\n",
      "|      24|2013-07-25|      11441|         CLOSED|\n",
      "|      25|2013-07-25|       9503|         CLOSED|\n",
      "|      26|2013-07-25|       7562|       COMPLETE|\n",
      "|      27|2013-07-25|       3241|PENDING_PAYMENT|\n",
      "|      28|2013-07-25|        656|       COMPLETE|\n",
      "|      29|2013-07-25|        196|     PROCESSING|\n",
      "|      30|2013-07-25|      10039|PENDING_PAYMENT|\n",
      "|      31|2013-07-25|       6983| PAYMENT_REVIEW|\n",
      "|      32|2013-07-25|       3960|       COMPLETE|\n",
      "|      33|2013-07-25|       5793|PENDING_PAYMENT|\n",
      "|      34|2013-07-25|       4189|     PROCESSING|\n",
      "|      35|2013-07-25|       4840|       COMPLETE|\n",
      "|      36|2013-07-25|       5649|        PENDING|\n",
      "|      37|2013-07-25|       5863|         CLOSED|\n",
      "|      38|2013-07-25|      11586|     PROCESSING|\n",
      "|      39|2013-07-25|       8214|        PENDING|\n",
      "|      40|2013-07-25|      12092|PENDING_PAYMENT|\n",
      "|      41|2013-07-25|       8136|PENDING_PAYMENT|\n",
      "|      42|2013-07-25|       9776|        PENDING|\n",
      "|      43|2013-07-25|       7776|PENDING_PAYMENT|\n",
      "|      44|2013-07-25|      10500|        PENDING|\n",
      "|      45|2013-07-25|       2636|       COMPLETE|\n",
      "|      46|2013-07-25|       1549|        ON_HOLD|\n",
      "|      47|2013-07-25|       8487|PENDING_PAYMENT|\n",
      "|      48|2013-07-25|      12186|     PROCESSING|\n",
      "|      49|2013-07-25|       1871|        PENDING|\n",
      "|      50|2013-07-25|       5225|       CANCELED|\n",
      "|      51|2013-07-25|      12271|         CLOSED|\n",
      "|      52|2013-07-25|       5126|PENDING_PAYMENT|\n",
      "|      53|2013-07-25|       4701|     PROCESSING|\n",
      "|      54|2013-07-25|      10628|PENDING_PAYMENT|\n",
      "|      55|2013-07-25|       2052|        PENDING|\n",
      "|      56|2013-07-25|      10519|       COMPLETE|\n",
      "|      57|2013-07-25|       7073|         CLOSED|\n",
      "|      58|2013-07-25|       9213|PENDING_PAYMENT|\n",
      "|      59|2013-07-25|      11644|PENDING_PAYMENT|\n",
      "|      60|2013-07-25|       8365|PENDING_PAYMENT|\n",
      "|      61|2013-07-25|       4791|         CLOSED|\n",
      "|      62|2013-07-25|       9111|         CLOSED|\n",
      "|      63|2013-07-25|       1148|       COMPLETE|\n",
      "|      64|2013-07-25|       5579|PENDING_PAYMENT|\n",
      "|      65|2013-07-25|       5903|       COMPLETE|\n",
      "|      66|2013-07-25|       1792|        ON_HOLD|\n",
      "|      67|2013-07-25|       1406|       COMPLETE|\n",
      "|      68|2013-07-25|       4320|        PENDING|\n",
      "|      69|2013-07-25|       2821|SUSPECTED_FRAUD|\n",
      "|      70|2013-07-25|      11809|PENDING_PAYMENT|\n",
      "|      71|2013-07-25|       8646|       COMPLETE|\n",
      "|      72|2013-07-25|       4349|       COMPLETE|\n",
      "|      73|2013-07-25|       8504|PENDING_PAYMENT|\n",
      "|      74|2013-07-25|        662|PENDING_PAYMENT|\n",
      "|      75|2013-07-25|       2505|PENDING_PAYMENT|\n",
      "|      76|2013-07-25|       6898|       COMPLETE|\n",
      "|      77|2013-07-25|       7915|PENDING_PAYMENT|\n",
      "|      78|2013-07-25|       8619| PAYMENT_REVIEW|\n",
      "|      79|2013-07-25|       7327|PENDING_PAYMENT|\n",
      "|      80|2013-07-25|       3007|       COMPLETE|\n",
      "|      81|2013-07-25|        674|     PROCESSING|\n",
      "|      82|2013-07-25|       3566|PENDING_PAYMENT|\n",
      "|      83|2013-07-25|       1265|       COMPLETE|\n",
      "|      84|2013-07-25|       6789|     PROCESSING|\n",
      "|      85|2013-07-25|       1485|        PENDING|\n",
      "|      86|2013-07-25|       6680|PENDING_PAYMENT|\n",
      "|      87|2013-07-25|       3065|         CLOSED|\n",
      "|      88|2013-07-25|       3809|       COMPLETE|\n",
      "|      89|2013-07-25|        824|        ON_HOLD|\n",
      "|      90|2013-07-25|       9131|         CLOSED|\n",
      "|      91|2013-07-25|       8912|       COMPLETE|\n",
      "|      92|2013-07-25|       6932|       COMPLETE|\n",
      "|      93|2013-07-25|       2256|PENDING_PAYMENT|\n",
      "|      94|2013-07-25|      11589|     PROCESSING|\n",
      "|      95|2013-07-25|       9032|       COMPLETE|\n",
      "|      96|2013-07-25|       8683|        PENDING|\n",
      "|      97|2013-07-25|      10784|        PENDING|\n",
      "|      98|2013-07-25|       5243|       COMPLETE|\n",
      "|      99|2013-07-25|      11542|PENDING_PAYMENT|\n",
      "|     100|2013-07-25|      12131|     PROCESSING|\n",
      "+--------+----------+-----------+---------------+\n",
      "only showing top 100 rows\n",
      "\n"
     ]
    }
   ],
   "source": [
    "orders_df_cached.show(100)"
   ]
  },
  {
   "cell_type": "code",
   "execution_count": 41,
   "id": "d9e05111",
   "metadata": {},
   "outputs": [],
   "source": [
    "orders_df_cached.createOrReplaceTempView(\"orders\")"
   ]
  },
  {
   "cell_type": "code",
   "execution_count": 42,
   "id": "01943002",
   "metadata": {},
   "outputs": [
    {
     "name": "stdout",
     "output_type": "stream",
     "text": [
      "+--------+----------+-----------+---------------+\n",
      "|order_id|order_date|customer_id|   order_status|\n",
      "+--------+----------+-----------+---------------+\n",
      "|       1|2013-07-25|      11599|         CLOSED|\n",
      "|       2|2013-07-25|        256|PENDING_PAYMENT|\n",
      "|       3|2013-07-25|      12111|       COMPLETE|\n",
      "|       4|2013-07-25|       8827|         CLOSED|\n",
      "|       5|2013-07-25|      11318|       COMPLETE|\n",
      "|       6|2013-07-25|       7130|       COMPLETE|\n",
      "|       7|2013-07-25|       4530|       COMPLETE|\n",
      "|       8|2013-07-25|       2911|     PROCESSING|\n",
      "|       9|2013-07-25|       5657|PENDING_PAYMENT|\n",
      "|      10|2013-07-25|       5648|PENDING_PAYMENT|\n",
      "|      11|2013-07-25|        918| PAYMENT_REVIEW|\n",
      "|      12|2013-07-25|       1837|         CLOSED|\n",
      "|      13|2013-07-25|       9149|PENDING_PAYMENT|\n",
      "|      14|2013-07-25|       9842|     PROCESSING|\n",
      "|      15|2013-07-25|       2568|       COMPLETE|\n",
      "|      16|2013-07-25|       7276|PENDING_PAYMENT|\n",
      "|      17|2013-07-25|       2667|       COMPLETE|\n",
      "|      18|2013-07-25|       1205|         CLOSED|\n",
      "|      19|2013-07-25|       9488|PENDING_PAYMENT|\n",
      "|      20|2013-07-25|       9198|     PROCESSING|\n",
      "+--------+----------+-----------+---------------+\n",
      "only showing top 20 rows\n",
      "\n"
     ]
    }
   ],
   "source": [
    "spark.sql(\"Select * from orders\").show()"
   ]
  },
  {
   "cell_type": "code",
   "execution_count": 43,
   "id": "c5d9adc6",
   "metadata": {},
   "outputs": [],
   "source": [
    "spark.stop()"
   ]
  },
  {
   "cell_type": "code",
   "execution_count": null,
   "id": "f0b7c237",
   "metadata": {},
   "outputs": [],
   "source": []
  }
 ],
 "metadata": {
  "kernelspec": {
   "display_name": "Pyspark 2",
   "language": "python",
   "name": "pyspark2"
  },
  "language_info": {
   "codemirror_mode": {
    "name": "ipython",
    "version": 3
   },
   "file_extension": ".py",
   "mimetype": "text/x-python",
   "name": "python",
   "nbconvert_exporter": "python",
   "pygments_lexer": "ipython3",
   "version": "3.6.12"
  }
 },
 "nbformat": 4,
 "nbformat_minor": 5
}
