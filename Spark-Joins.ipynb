{
 "cells": [
  {
   "cell_type": "code",
   "execution_count": 1,
   "id": "93da6a56",
   "metadata": {},
   "outputs": [],
   "source": [
    "from pyspark.sql import SparkSession\n",
    "import getpass\n",
    "username = getpass.getuser()\n",
    "spark = SparkSession. \\\n",
    "    builder. \\\n",
    "    config('spark.ui.port','0'). \\\n",
    "    config(\"spark.sql.warehouse.dir\", f\"/user/itv007008/warehouse\"). \\\n",
    "    enableHiveSupport(). \\\n",
    "    master('yarn'). \\\n",
    "    getOrCreate()"
   ]
  },
  {
   "cell_type": "code",
   "execution_count": 4,
   "id": "fbd9a7a6",
   "metadata": {},
   "outputs": [
    {
     "data": {
      "text/html": [
       "\n",
       "            <div>\n",
       "                <p><b>SparkSession - hive</b></p>\n",
       "                \n",
       "        <div>\n",
       "            <p><b>SparkContext</b></p>\n",
       "\n",
       "            <p><a href=\"http://g02.itversity.com:42997\">Spark UI</a></p>\n",
       "\n",
       "            <dl>\n",
       "              <dt>Version</dt>\n",
       "                <dd><code>v3.0.1</code></dd>\n",
       "              <dt>Master</dt>\n",
       "                <dd><code>yarn</code></dd>\n",
       "              <dt>AppName</dt>\n",
       "                <dd><code>pyspark-shell</code></dd>\n",
       "            </dl>\n",
       "        </div>\n",
       "        \n",
       "            </div>\n",
       "        "
      ],
      "text/plain": [
       "<pyspark.sql.session.SparkSession at 0x7f740fd33128>"
      ]
     },
     "execution_count": 4,
     "metadata": {},
     "output_type": "execute_result"
    }
   ],
   "source": [
    "spark"
   ]
  },
  {
   "cell_type": "code",
   "execution_count": 10,
   "id": "d4b75adb",
   "metadata": {},
   "outputs": [],
   "source": [
    "### Order Dataset ####\n",
    "order_base = spark.sparkContext.textFile('/public/trendytech/orders/orders_1gb.csv')"
   ]
  },
  {
   "cell_type": "code",
   "execution_count": 9,
   "id": "11391d54",
   "metadata": {},
   "outputs": [],
   "source": [
    "### Customer Dataset ###\n",
    "customer_base = spark.sparkContext.textFile('/public/trendytech/retail_db/customers/*')"
   ]
  },
  {
   "cell_type": "code",
   "execution_count": 12,
   "id": "9de56a91",
   "metadata": {},
   "outputs": [],
   "source": [
    "order_mapped = order_base.map(lambda x: (x.split(',')[2],x.split(',')[3]))"
   ]
  },
  {
   "cell_type": "code",
   "execution_count": 16,
   "id": "e068dea7",
   "metadata": {},
   "outputs": [],
   "source": [
    "customer_mapped = customer_base.map(lambda x: (x.split(',')[0],x.split(',')[8]))"
   ]
  },
  {
   "cell_type": "code",
   "execution_count": 18,
   "id": "2d1172fa",
   "metadata": {},
   "outputs": [],
   "source": [
    "joined_rdd = customer_mapped.join(order_mapped)"
   ]
  },
  {
   "cell_type": "code",
   "execution_count": 19,
   "id": "b21a6cb1",
   "metadata": {},
   "outputs": [
    {
     "data": {
      "text/plain": [
       "[('5828', ('00725', 'PENDING_PAYMENT')),\n",
       " ('5828', ('00725', 'PROCESSING')),\n",
       " ('5828', ('00725', 'COMPLETE')),\n",
       " ('5828', ('00725', 'PROCESSING')),\n",
       " ('5828', ('00725', 'COMPLETE'))]"
      ]
     },
     "execution_count": 19,
     "metadata": {},
     "output_type": "execute_result"
    }
   ],
   "source": [
    "joined_rdd.take(5)"
   ]
  },
  {
   "cell_type": "code",
   "execution_count": 20,
   "id": "4a8f34d8",
   "metadata": {},
   "outputs": [],
   "source": [
    "spark.stop()"
   ]
  },
  {
   "cell_type": "code",
   "execution_count": null,
   "id": "db1f4010",
   "metadata": {},
   "outputs": [],
   "source": []
  }
 ],
 "metadata": {
  "kernelspec": {
   "display_name": "Pyspark 3",
   "language": "python",
   "name": "pyspark3"
  },
  "language_info": {
   "codemirror_mode": {
    "name": "ipython",
    "version": 3
   },
   "file_extension": ".py",
   "mimetype": "text/x-python",
   "name": "python",
   "nbconvert_exporter": "python",
   "pygments_lexer": "ipython3",
   "version": "3.6.12"
  }
 },
 "nbformat": 4,
 "nbformat_minor": 5
}
